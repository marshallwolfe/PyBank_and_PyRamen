{
 "cells": [
  {
   "cell_type": "code",
   "execution_count": 1,
   "metadata": {},
   "outputs": [
    {
     "name": "stdout",
     "output_type": "stream",
     "text": [
      "Financial Analysis\n",
      "----------------------------\n",
      "Total Months: 86\n",
      "Total: $38382578\n",
      "Average Change: $-2315.12\n",
      "Greatest Increase in Profits: Feb-2012 ($1926159)\n",
      "Greatest Decrease in Profits: Sep-2013 $-2196167\n"
     ]
    }
   ],
   "source": [
    "\"\"\"\n",
    "This is Marshall Wolfe's \n",
    "FinTech Boot Camp Unit 2 Homework submission \n",
    "due 05/02/2020 at 11:59pm CDT\n",
    "\"\"\"\n",
    "\n",
    "# Import the pathlib and csv library\n",
    "from pathlib import Path\n",
    "import csv\n",
    "\n",
    "# Identify file path to source data located in the same \"PyBank\" project folder\n",
    "csvpath = Path('budget_data.csv')\n",
    "\n",
    "# Initialize variables\n",
    "month_count = 0    # This counts the total number of months\n",
    "total_revenue = 0    # This sums the total revenue over all months\n",
    "previous_revenue = 0    # This equals revenue from the previous month to allow the calculation of monthly change\n",
    "monthly_change = 0    # This equals current month revenue minus previous month revenue\n",
    "monthly_change_count = 0    # This counts the total number of monthly changes (1 fewer than total number of months)\n",
    "total_change = 0    # This sums the total monthly changes to allow the calculation of average change\n",
    "greatest_increase = 0    # This stores the greatest increase across all monthly changes\n",
    "greatest_increase_month = 0    # This stores the month associated with the greatest increase\n",
    "greatest_decrease = 0    # This stores the greatest decrease across all monthly changes\n",
    "greatest_decrease_month = 0    # This stores the month associated with the greatest decrease\n",
    "\n",
    "# Open the source data file\n",
    "with open(csvpath, 'r') as csvfile:\n",
    "    csvreader = csv.reader(csvfile, delimiter=',')\n",
    "\n",
    "    # Skip the header row\n",
    "    csv_header = next(csvreader)\n",
    "\n",
    "    # Read each row of data after the header and perform calculations\n",
    "    for row in csvreader:\n",
    "        month_count += 1\n",
    "        total_revenue = total_revenue + int(row[1])\n",
    "\n",
    "        if month_count == 1:    # In the first month the change is zero because there is no previous month available\n",
    "            monthly_change = 0\n",
    "        else:\n",
    "            monthly_change = int(row[1]) - previous_revenue\n",
    "            monthly_change_count += 1\n",
    "        \n",
    "        previous_revenue = int(row[1])\n",
    "        total_change += monthly_change\n",
    "        \n",
    "        if monthly_change > greatest_increase:\n",
    "            greatest_increase = monthly_change\n",
    "            greatest_increase_month = row[0]\n",
    "\n",
    "        if monthly_change < greatest_decrease:\n",
    "            greatest_decrease = monthly_change\n",
    "            greatest_decrease_month = row[0]\n",
    "            \n",
    "# Print the results of analysis        \n",
    "            \n",
    "print(\"Financial Analysis\")\n",
    "print(\"----------------------------\")\n",
    "print(f\"Total Months: {month_count}\")\n",
    "print(f\"Total: ${total_revenue}\") \n",
    "print(f\"Average Change: ${total_change/(month_count-1):.2f}\")\n",
    "print(f\"Greatest Increase in Profits: {greatest_increase_month} (${greatest_increase})\")\n",
    "print(f\"Greatest Decrease in Profits: {greatest_decrease_month} ${greatest_decrease}\")  \n",
    "    \n",
    "# Export a text file with the results of analysis\n",
    "    \n",
    "f = open('output.txt','w')\n",
    "f.write(\"Financial Analysis\\n\")\n",
    "f.write(\"----------------------------\\n\")\n",
    "f.write(f\"Total Months: {month_count}\\n\")\n",
    "f.write(f\"Total: ${total_revenue}\\n\") \n",
    "f.write(f\"Average Change: ${total_change/(monthly_change_count):.2f}\\n\")\n",
    "f.write(f\"Greatest Increase in Profits: {greatest_increase_month} (${greatest_increase})\\n\")\n",
    "f.write(f\"Greatest Decrease in Profits: {greatest_decrease_month} ${greatest_decrease}\\n\")\n",
    "f.close()"
   ]
  },
  {
   "cell_type": "code",
   "execution_count": null,
   "metadata": {},
   "outputs": [],
   "source": []
  }
 ],
 "metadata": {
  "kernelspec": {
   "display_name": "Python 3",
   "language": "python",
   "name": "python3"
  },
  "language_info": {
   "codemirror_mode": {
    "name": "ipython",
    "version": 3
   },
   "file_extension": ".py",
   "mimetype": "text/x-python",
   "name": "python",
   "nbconvert_exporter": "python",
   "pygments_lexer": "ipython3",
   "version": "3.7.6"
  }
 },
 "nbformat": 4,
 "nbformat_minor": 4
}
